{
  "cells": [
    {
      "cell_type": "markdown",
      "metadata": {
        "id": "view-in-github",
        "colab_type": "text"
      },
      "source": [
        "<a href=\"https://colab.research.google.com/github/coriso44444/dddd/blob/main/FluxGym.ipynb\" target=\"_parent\"><img src=\"https://colab.research.google.com/assets/colab-badge.svg\" alt=\"Open In Colab\"/></a>"
      ]
    },
    {
      "cell_type": "markdown",
      "source": [
        "# **FluxGym Colab**"
      ],
      "metadata": {
        "id": "_I-HADozm4sB"
      }
    },
    {
      "cell_type": "markdown",
      "source": [
        "**Important Notice**\n",
        "\n",
        "Please be aware that this Colab notebook is a work in progress. Model training can be time-consuming, and you may want to consider a Colab Pro membership for extensive training sessions.\n",
        "\n",
        "We are working on improving training efficiency and will update the notebook as advancements are made from the original developers. Thank you for your understanding!"
      ],
      "metadata": {
        "id": "LmV1zQMole6d"
      }
    },
    {
      "cell_type": "markdown",
      "source": [
        "# **Git Clone the Flux Gym and Kohya-SS sd-scripts Github Repository**\n",
        "\n",
        "\n",
        "\n"
      ],
      "metadata": {
        "id": "A-39F5xHjJ2m"
      }
    },
    {
      "cell_type": "code",
      "execution_count": null,
      "metadata": {
        "collapsed": true,
        "id": "lU6VoX3zs66v",
        "colab": {
          "base_uri": "https://localhost:8080/"
        },
        "outputId": "152cd0c4-663a-4a98-c94b-7a692d9d670d"
      },
      "outputs": [
        {
          "output_type": "stream",
          "name": "stdout",
          "text": [
            "Cloning into 'fluxgym'...\n",
            "remote: Enumerating objects: 176, done.\u001b[K\n",
            "remote: Counting objects: 100% (110/110), done.\u001b[K\n",
            "remote: Compressing objects: 100% (55/55), done.\u001b[K\n",
            "remote: Total 176 (delta 72), reused 79 (delta 55), pack-reused 66 (from 1)\u001b[K\n",
            "Receiving objects: 100% (176/176), 16.52 MiB | 15.52 MiB/s, done.\n",
            "Resolving deltas: 100% (92/92), done.\n"
          ]
        }
      ],
      "source": [
        "!git clone https://github.com/TheLocalLab/fluxgym-Colab.git"
      ]
    },
    {
      "cell_type": "code",
      "execution_count": null,
      "metadata": {
        "collapsed": true,
        "id": "F1U5UZJltP30",
        "colab": {
          "base_uri": "https://localhost:8080/"
        },
        "outputId": "2b2a5578-0c7f-4927-9877-e06f433698b6"
      },
      "outputs": [
        {
          "output_type": "stream",
          "name": "stdout",
          "text": [
            "/content/fluxgym-Colab\n",
            "Cloning into 'sd-scripts'...\n",
            "remote: Enumerating objects: 7514, done.\u001b[K\n",
            "remote: Counting objects: 100% (922/922), done.\u001b[K\n",
            "remote: Compressing objects: 100% (412/412), done.\u001b[K\n",
            "remote: Total 7514 (delta 661), reused 692 (delta 509), pack-reused 6592 (from 1)\u001b[K\n",
            "Receiving objects: 100% (7514/7514), 10.12 MiB | 15.19 MiB/s, done.\n",
            "Resolving deltas: 100% (5394/5394), done.\n"
          ]
        }
      ],
      "source": [
        "%cd /content/fluxgym-Colab/\n",
        "!git clone -b sd3 https://github.com/kohya-ss/sd-scripts"
      ]
    },
    {
      "cell_type": "markdown",
      "source": [
        "# **Install each projects dependencies**"
      ],
      "metadata": {
        "id": "KQLG4s_5j5HM"
      }
    },
    {
      "cell_type": "code",
      "execution_count": null,
      "metadata": {
        "collapsed": true,
        "id": "eD7Yf7B5tWVa",
        "colab": {
          "base_uri": "https://localhost:8080/"
        },
        "outputId": "927966f2-aefb-4883-f9e9-c911e4844cda"
      },
      "outputs": [
        {
          "output_type": "stream",
          "name": "stdout",
          "text": [
            "/content/fluxgym-Colab/sd-scripts\n",
            "Obtaining file:///content/fluxgym-Colab/sd-scripts (from -r requirements.txt (line 44))\n",
            "  Preparing metadata (setup.py) ... \u001b[?25l\u001b[?25hdone\n",
            "Collecting accelerate==0.33.0 (from -r requirements.txt (line 1))\n",
            "  Downloading accelerate-0.33.0-py3-none-any.whl.metadata (18 kB)\n",
            "Collecting transformers==4.44.0 (from -r requirements.txt (line 2))\n",
            "  Downloading transformers-4.44.0-py3-none-any.whl.metadata (43 kB)\n",
            "\u001b[2K     \u001b[90m━━━━━━━━━━━━━━━━━━━━━━━━━━━━━━━━━━━━━━━━\u001b[0m \u001b[32m43.7/43.7 kB\u001b[0m \u001b[31m1.8 MB/s\u001b[0m eta \u001b[36m0:00:00\u001b[0m\n",
            "\u001b[?25hCollecting diffusers==0.25.0 (from diffusers[torch]==0.25.0->-r requirements.txt (line 3))\n",
            "  Downloading diffusers-0.25.0-py3-none-any.whl.metadata (19 kB)\n",
            "Collecting ftfy==6.1.1 (from -r requirements.txt (line 4))\n",
            "  Downloading ftfy-6.1.1-py3-none-any.whl.metadata (6.1 kB)\n",
            "Collecting opencv-python==4.8.1.78 (from -r requirements.txt (line 6))\n",
            "  Downloading opencv_python-4.8.1.78-cp37-abi3-manylinux_2_17_x86_64.manylinux2014_x86_64.whl.metadata (19 kB)\n",
            "Collecting einops==0.7.0 (from -r requirements.txt (line 7))\n",
            "  Downloading einops-0.7.0-py3-none-any.whl.metadata (13 kB)\n",
            "Collecting pytorch-lightning==1.9.0 (from -r requirements.txt (line 8))\n",
            "  Downloading pytorch_lightning-1.9.0-py3-none-any.whl.metadata (23 kB)\n",
            "Collecting bitsandbytes==0.43.3 (from -r requirements.txt (line 9))\n",
            "  Downloading bitsandbytes-0.43.3-py3-none-manylinux_2_24_x86_64.whl.metadata (3.5 kB)\n",
            "Collecting prodigyopt==1.0 (from -r requirements.txt (line 10))\n",
            "  Downloading prodigyopt-1.0-py3-none-any.whl.metadata (1.2 kB)\n",
            "Collecting lion-pytorch==0.0.6 (from -r requirements.txt (line 11))\n",
            "  Downloading lion_pytorch-0.0.6-py3-none-any.whl.metadata (620 bytes)\n",
            "Requirement already satisfied: tensorboard in /usr/local/lib/python3.10/dist-packages (from -r requirements.txt (line 12)) (2.17.0)\n",
            "Collecting safetensors==0.4.4 (from -r requirements.txt (line 13))\n",
            "  Downloading safetensors-0.4.4-cp310-cp310-manylinux_2_17_x86_64.manylinux2014_x86_64.whl.metadata (3.8 kB)\n",
            "Requirement already satisfied: altair==4.2.2 in /usr/local/lib/python3.10/dist-packages (from -r requirements.txt (line 15)) (4.2.2)\n",
            "Collecting easygui==0.98.3 (from -r requirements.txt (line 16))\n",
            "  Downloading easygui-0.98.3-py2.py3-none-any.whl.metadata (8.4 kB)\n",
            "Requirement already satisfied: toml==0.10.2 in /usr/local/lib/python3.10/dist-packages (from -r requirements.txt (line 17)) (0.10.2)\n",
            "Collecting voluptuous==0.13.1 (from -r requirements.txt (line 18))\n",
            "  Downloading voluptuous-0.13.1-py3-none-any.whl.metadata (20 kB)\n",
            "Collecting huggingface-hub==0.24.5 (from -r requirements.txt (line 19))\n",
            "  Downloading huggingface_hub-0.24.5-py3-none-any.whl.metadata (13 kB)\n",
            "Requirement already satisfied: imagesize==1.4.1 in /usr/local/lib/python3.10/dist-packages (from -r requirements.txt (line 21)) (1.4.1)\n",
            "Collecting rich==13.7.0 (from -r requirements.txt (line 40))\n",
            "  Downloading rich-13.7.0-py3-none-any.whl.metadata (18 kB)\n",
            "Collecting sentencepiece==0.2.0 (from -r requirements.txt (line 42))\n",
            "  Downloading sentencepiece-0.2.0-cp310-cp310-manylinux_2_17_x86_64.manylinux2014_x86_64.whl.metadata (7.7 kB)\n",
            "Requirement already satisfied: numpy<2.0.0,>=1.17 in /usr/local/lib/python3.10/dist-packages (from accelerate==0.33.0->-r requirements.txt (line 1)) (1.26.4)\n",
            "Requirement already satisfied: packaging>=20.0 in /usr/local/lib/python3.10/dist-packages (from accelerate==0.33.0->-r requirements.txt (line 1)) (24.1)\n",
            "Requirement already satisfied: psutil in /usr/local/lib/python3.10/dist-packages (from accelerate==0.33.0->-r requirements.txt (line 1)) (5.9.5)\n",
            "Requirement already satisfied: pyyaml in /usr/local/lib/python3.10/dist-packages (from accelerate==0.33.0->-r requirements.txt (line 1)) (6.0.2)\n",
            "Requirement already satisfied: torch>=1.10.0 in /usr/local/lib/python3.10/dist-packages (from accelerate==0.33.0->-r requirements.txt (line 1)) (2.4.0+cu121)\n",
            "Requirement already satisfied: filelock in /usr/local/lib/python3.10/dist-packages (from transformers==4.44.0->-r requirements.txt (line 2)) (3.16.0)\n",
            "Requirement already satisfied: regex!=2019.12.17 in /usr/local/lib/python3.10/dist-packages (from transformers==4.44.0->-r requirements.txt (line 2)) (2024.5.15)\n",
            "Requirement already satisfied: requests in /usr/local/lib/python3.10/dist-packages (from transformers==4.44.0->-r requirements.txt (line 2)) (2.32.3)\n",
            "Requirement already satisfied: tokenizers<0.20,>=0.19 in /usr/local/lib/python3.10/dist-packages (from transformers==4.44.0->-r requirements.txt (line 2)) (0.19.1)\n",
            "Requirement already satisfied: tqdm>=4.27 in /usr/local/lib/python3.10/dist-packages (from transformers==4.44.0->-r requirements.txt (line 2)) (4.66.5)\n",
            "Requirement already satisfied: importlib-metadata in /usr/local/lib/python3.10/dist-packages (from diffusers==0.25.0->diffusers[torch]==0.25.0->-r requirements.txt (line 3)) (8.5.0)\n",
            "Requirement already satisfied: Pillow in /usr/local/lib/python3.10/dist-packages (from diffusers==0.25.0->diffusers[torch]==0.25.0->-r requirements.txt (line 3)) (9.4.0)\n",
            "Requirement already satisfied: wcwidth>=0.2.5 in /usr/local/lib/python3.10/dist-packages (from ftfy==6.1.1->-r requirements.txt (line 4)) (0.2.13)\n",
            "Requirement already satisfied: fsspec>2021.06.0 in /usr/local/lib/python3.10/dist-packages (from fsspec[http]>2021.06.0->pytorch-lightning==1.9.0->-r requirements.txt (line 8)) (2024.6.1)\n",
            "Collecting torchmetrics>=0.7.0 (from pytorch-lightning==1.9.0->-r requirements.txt (line 8))\n",
            "  Downloading torchmetrics-1.4.2-py3-none-any.whl.metadata (19 kB)\n",
            "Requirement already satisfied: typing-extensions>=4.0.0 in /usr/local/lib/python3.10/dist-packages (from pytorch-lightning==1.9.0->-r requirements.txt (line 8)) (4.12.2)\n",
            "Collecting lightning-utilities>=0.4.2 (from pytorch-lightning==1.9.0->-r requirements.txt (line 8))\n",
            "  Downloading lightning_utilities-0.11.7-py3-none-any.whl.metadata (5.2 kB)\n",
            "Requirement already satisfied: entrypoints in /usr/local/lib/python3.10/dist-packages (from altair==4.2.2->-r requirements.txt (line 15)) (0.4)\n",
            "Requirement already satisfied: jinja2 in /usr/local/lib/python3.10/dist-packages (from altair==4.2.2->-r requirements.txt (line 15)) (3.1.4)\n",
            "Requirement already satisfied: jsonschema>=3.0 in /usr/local/lib/python3.10/dist-packages (from altair==4.2.2->-r requirements.txt (line 15)) (4.23.0)\n",
            "Requirement already satisfied: pandas>=0.18 in /usr/local/lib/python3.10/dist-packages (from altair==4.2.2->-r requirements.txt (line 15)) (2.1.4)\n",
            "Requirement already satisfied: toolz in /usr/local/lib/python3.10/dist-packages (from altair==4.2.2->-r requirements.txt (line 15)) (0.12.1)\n",
            "Requirement already satisfied: markdown-it-py>=2.2.0 in /usr/local/lib/python3.10/dist-packages (from rich==13.7.0->-r requirements.txt (line 40)) (3.0.0)\n",
            "Requirement already satisfied: pygments<3.0.0,>=2.13.0 in /usr/local/lib/python3.10/dist-packages (from rich==13.7.0->-r requirements.txt (line 40)) (2.16.1)\n",
            "Requirement already satisfied: absl-py>=0.4 in /usr/local/lib/python3.10/dist-packages (from tensorboard->-r requirements.txt (line 12)) (1.4.0)\n",
            "Requirement already satisfied: grpcio>=1.48.2 in /usr/local/lib/python3.10/dist-packages (from tensorboard->-r requirements.txt (line 12)) (1.64.1)\n",
            "Requirement already satisfied: markdown>=2.6.8 in /usr/local/lib/python3.10/dist-packages (from tensorboard->-r requirements.txt (line 12)) (3.7)\n",
            "Requirement already satisfied: protobuf!=4.24.0,<5.0.0,>=3.19.6 in /usr/local/lib/python3.10/dist-packages (from tensorboard->-r requirements.txt (line 12)) (3.20.3)\n",
            "Requirement already satisfied: setuptools>=41.0.0 in /usr/local/lib/python3.10/dist-packages (from tensorboard->-r requirements.txt (line 12)) (71.0.4)\n",
            "Requirement already satisfied: six>1.9 in /usr/local/lib/python3.10/dist-packages (from tensorboard->-r requirements.txt (line 12)) (1.16.0)\n",
            "Requirement already satisfied: tensorboard-data-server<0.8.0,>=0.7.0 in /usr/local/lib/python3.10/dist-packages (from tensorboard->-r requirements.txt (line 12)) (0.7.2)\n",
            "Requirement already satisfied: werkzeug>=1.0.1 in /usr/local/lib/python3.10/dist-packages (from tensorboard->-r requirements.txt (line 12)) (3.0.4)\n",
            "Requirement already satisfied: aiohttp!=4.0.0a0,!=4.0.0a1 in /usr/local/lib/python3.10/dist-packages (from fsspec[http]>2021.06.0->pytorch-lightning==1.9.0->-r requirements.txt (line 8)) (3.10.5)\n",
            "Requirement already satisfied: attrs>=22.2.0 in /usr/local/lib/python3.10/dist-packages (from jsonschema>=3.0->altair==4.2.2->-r requirements.txt (line 15)) (24.2.0)\n",
            "Requirement already satisfied: jsonschema-specifications>=2023.03.6 in /usr/local/lib/python3.10/dist-packages (from jsonschema>=3.0->altair==4.2.2->-r requirements.txt (line 15)) (2023.12.1)\n",
            "Requirement already satisfied: referencing>=0.28.4 in /usr/local/lib/python3.10/dist-packages (from jsonschema>=3.0->altair==4.2.2->-r requirements.txt (line 15)) (0.35.1)\n",
            "Requirement already satisfied: rpds-py>=0.7.1 in /usr/local/lib/python3.10/dist-packages (from jsonschema>=3.0->altair==4.2.2->-r requirements.txt (line 15)) (0.20.0)\n",
            "Requirement already satisfied: mdurl~=0.1 in /usr/local/lib/python3.10/dist-packages (from markdown-it-py>=2.2.0->rich==13.7.0->-r requirements.txt (line 40)) (0.1.2)\n",
            "Requirement already satisfied: python-dateutil>=2.8.2 in /usr/local/lib/python3.10/dist-packages (from pandas>=0.18->altair==4.2.2->-r requirements.txt (line 15)) (2.8.2)\n",
            "Requirement already satisfied: pytz>=2020.1 in /usr/local/lib/python3.10/dist-packages (from pandas>=0.18->altair==4.2.2->-r requirements.txt (line 15)) (2024.2)\n",
            "Requirement already satisfied: tzdata>=2022.1 in /usr/local/lib/python3.10/dist-packages (from pandas>=0.18->altair==4.2.2->-r requirements.txt (line 15)) (2024.1)\n",
            "Requirement already satisfied: sympy in /usr/local/lib/python3.10/dist-packages (from torch>=1.10.0->accelerate==0.33.0->-r requirements.txt (line 1)) (1.13.2)\n",
            "Requirement already satisfied: networkx in /usr/local/lib/python3.10/dist-packages (from torch>=1.10.0->accelerate==0.33.0->-r requirements.txt (line 1)) (3.3)\n",
            "Requirement already satisfied: MarkupSafe>=2.1.1 in /usr/local/lib/python3.10/dist-packages (from werkzeug>=1.0.1->tensorboard->-r requirements.txt (line 12)) (2.1.5)\n",
            "Requirement already satisfied: zipp>=3.20 in /usr/local/lib/python3.10/dist-packages (from importlib-metadata->diffusers==0.25.0->diffusers[torch]==0.25.0->-r requirements.txt (line 3)) (3.20.1)\n",
            "Requirement already satisfied: charset-normalizer<4,>=2 in /usr/local/lib/python3.10/dist-packages (from requests->transformers==4.44.0->-r requirements.txt (line 2)) (3.3.2)\n",
            "Requirement already satisfied: idna<4,>=2.5 in /usr/local/lib/python3.10/dist-packages (from requests->transformers==4.44.0->-r requirements.txt (line 2)) (3.8)\n",
            "Requirement already satisfied: urllib3<3,>=1.21.1 in /usr/local/lib/python3.10/dist-packages (from requests->transformers==4.44.0->-r requirements.txt (line 2)) (2.0.7)\n",
            "Requirement already satisfied: certifi>=2017.4.17 in /usr/local/lib/python3.10/dist-packages (from requests->transformers==4.44.0->-r requirements.txt (line 2)) (2024.8.30)\n",
            "Requirement already satisfied: aiohappyeyeballs>=2.3.0 in /usr/local/lib/python3.10/dist-packages (from aiohttp!=4.0.0a0,!=4.0.0a1->fsspec[http]>2021.06.0->pytorch-lightning==1.9.0->-r requirements.txt (line 8)) (2.4.0)\n",
            "Requirement already satisfied: aiosignal>=1.1.2 in /usr/local/lib/python3.10/dist-packages (from aiohttp!=4.0.0a0,!=4.0.0a1->fsspec[http]>2021.06.0->pytorch-lightning==1.9.0->-r requirements.txt (line 8)) (1.3.1)\n",
            "Requirement already satisfied: frozenlist>=1.1.1 in /usr/local/lib/python3.10/dist-packages (from aiohttp!=4.0.0a0,!=4.0.0a1->fsspec[http]>2021.06.0->pytorch-lightning==1.9.0->-r requirements.txt (line 8)) (1.4.1)\n",
            "Requirement already satisfied: multidict<7.0,>=4.5 in /usr/local/lib/python3.10/dist-packages (from aiohttp!=4.0.0a0,!=4.0.0a1->fsspec[http]>2021.06.0->pytorch-lightning==1.9.0->-r requirements.txt (line 8)) (6.1.0)\n",
            "Requirement already satisfied: yarl<2.0,>=1.0 in /usr/local/lib/python3.10/dist-packages (from aiohttp!=4.0.0a0,!=4.0.0a1->fsspec[http]>2021.06.0->pytorch-lightning==1.9.0->-r requirements.txt (line 8)) (1.11.1)\n",
            "Requirement already satisfied: async-timeout<5.0,>=4.0 in /usr/local/lib/python3.10/dist-packages (from aiohttp!=4.0.0a0,!=4.0.0a1->fsspec[http]>2021.06.0->pytorch-lightning==1.9.0->-r requirements.txt (line 8)) (4.0.3)\n",
            "Requirement already satisfied: mpmath<1.4,>=1.1.0 in /usr/local/lib/python3.10/dist-packages (from sympy->torch>=1.10.0->accelerate==0.33.0->-r requirements.txt (line 1)) (1.3.0)\n",
            "Downloading accelerate-0.33.0-py3-none-any.whl (315 kB)\n",
            "\u001b[2K   \u001b[90m━━━━━━━━━━━━━━━━━━━━━━━━━━━━━━━━━━━━━━━━\u001b[0m \u001b[32m315.1/315.1 kB\u001b[0m \u001b[31m7.4 MB/s\u001b[0m eta \u001b[36m0:00:00\u001b[0m\n",
            "\u001b[?25hDownloading transformers-4.44.0-py3-none-any.whl (9.5 MB)\n",
            "\u001b[2K   \u001b[90m━━━━━━━━━━━━━━━━━━━━━━━━━━━━━━━━━━━━━━━━\u001b[0m \u001b[32m9.5/9.5 MB\u001b[0m \u001b[31m71.7 MB/s\u001b[0m eta \u001b[36m0:00:00\u001b[0m\n",
            "\u001b[?25hDownloading diffusers-0.25.0-py3-none-any.whl (1.8 MB)\n",
            "\u001b[2K   \u001b[90m━━━━━━━━━━━━━━━━━━━━━━━━━━━━━━━━━━━━━━━━\u001b[0m \u001b[32m1.8/1.8 MB\u001b[0m \u001b[31m72.7 MB/s\u001b[0m eta \u001b[36m0:00:00\u001b[0m\n",
            "\u001b[?25hDownloading ftfy-6.1.1-py3-none-any.whl (53 kB)\n",
            "\u001b[2K   \u001b[90m━━━━━━━━━━━━━━━━━━━━━━━━━━━━━━━━━━━━━━━━\u001b[0m \u001b[32m53.1/53.1 kB\u001b[0m \u001b[31m4.6 MB/s\u001b[0m eta \u001b[36m0:00:00\u001b[0m\n",
            "\u001b[?25hDownloading opencv_python-4.8.1.78-cp37-abi3-manylinux_2_17_x86_64.manylinux2014_x86_64.whl (61.7 MB)\n",
            "\u001b[2K   \u001b[90m━━━━━━━━━━━━━━━━━━━━━━━━━━━━━━━━━━━━━━━━\u001b[0m \u001b[32m61.7/61.7 MB\u001b[0m \u001b[31m16.2 MB/s\u001b[0m eta \u001b[36m0:00:00\u001b[0m\n",
            "\u001b[?25hDownloading einops-0.7.0-py3-none-any.whl (44 kB)\n",
            "\u001b[2K   \u001b[90m━━━━━━━━━━━━━━━━━━━━━━━━━━━━━━━━━━━━━━━━\u001b[0m \u001b[32m44.6/44.6 kB\u001b[0m \u001b[31m4.1 MB/s\u001b[0m eta \u001b[36m0:00:00\u001b[0m\n",
            "\u001b[?25hDownloading pytorch_lightning-1.9.0-py3-none-any.whl (825 kB)\n",
            "\u001b[2K   \u001b[90m━━━━━━━━━━━━━━━━━━━━━━━━━━━━━━━━━━━━━━━━\u001b[0m \u001b[32m825.8/825.8 kB\u001b[0m \u001b[31m50.1 MB/s\u001b[0m eta \u001b[36m0:00:00\u001b[0m\n",
            "\u001b[?25hDownloading bitsandbytes-0.43.3-py3-none-manylinux_2_24_x86_64.whl (137.5 MB)\n",
            "\u001b[2K   \u001b[90m━━━━━━━━━━━━━━━━━━━━━━━━━━━━━━━━━━━━━━━━\u001b[0m \u001b[32m137.5/137.5 MB\u001b[0m \u001b[31m6.6 MB/s\u001b[0m eta \u001b[36m0:00:00\u001b[0m\n",
            "\u001b[?25hDownloading prodigyopt-1.0-py3-none-any.whl (5.5 kB)\n",
            "Downloading lion_pytorch-0.0.6-py3-none-any.whl (4.2 kB)\n",
            "Downloading safetensors-0.4.4-cp310-cp310-manylinux_2_17_x86_64.manylinux2014_x86_64.whl (435 kB)\n",
            "\u001b[2K   \u001b[90m━━━━━━━━━━━━━━━━━━━━━━━━━━━━━━━━━━━━━━━━\u001b[0m \u001b[32m435.5/435.5 kB\u001b[0m \u001b[31m32.9 MB/s\u001b[0m eta \u001b[36m0:00:00\u001b[0m\n",
            "\u001b[?25hDownloading easygui-0.98.3-py2.py3-none-any.whl (92 kB)\n",
            "\u001b[2K   \u001b[90m━━━━━━━━━━━━━━━━━━━━━━━━━━━━━━━━━━━━━━━━\u001b[0m \u001b[32m92.7/92.7 kB\u001b[0m \u001b[31m9.5 MB/s\u001b[0m eta \u001b[36m0:00:00\u001b[0m\n",
            "\u001b[?25hDownloading voluptuous-0.13.1-py3-none-any.whl (29 kB)\n",
            "Downloading huggingface_hub-0.24.5-py3-none-any.whl (417 kB)\n",
            "\u001b[2K   \u001b[90m━━━━━━━━━━━━━━━━━━━━━━━━━━━━━━━━━━━━━━━━\u001b[0m \u001b[32m417.5/417.5 kB\u001b[0m \u001b[31m30.0 MB/s\u001b[0m eta \u001b[36m0:00:00\u001b[0m\n",
            "\u001b[?25hDownloading rich-13.7.0-py3-none-any.whl (240 kB)\n",
            "\u001b[2K   \u001b[90m━━━━━━━━━━━━━━━━━━━━━━━━━━━━━━━━━━━━━━━━\u001b[0m \u001b[32m240.6/240.6 kB\u001b[0m \u001b[31m20.3 MB/s\u001b[0m eta \u001b[36m0:00:00\u001b[0m\n",
            "\u001b[?25hDownloading sentencepiece-0.2.0-cp310-cp310-manylinux_2_17_x86_64.manylinux2014_x86_64.whl (1.3 MB)\n",
            "\u001b[2K   \u001b[90m━━━━━━━━━━━━━━━━━━━━━━━━━━━━━━━━━━━━━━━━\u001b[0m \u001b[32m1.3/1.3 MB\u001b[0m \u001b[31m54.1 MB/s\u001b[0m eta \u001b[36m0:00:00\u001b[0m\n",
            "\u001b[?25hDownloading lightning_utilities-0.11.7-py3-none-any.whl (26 kB)\n",
            "Downloading torchmetrics-1.4.2-py3-none-any.whl (869 kB)\n",
            "\u001b[2K   \u001b[90m━━━━━━━━━━━━━━━━━━━━━━━━━━━━━━━━━━━━━━━━\u001b[0m \u001b[32m869.2/869.2 kB\u001b[0m \u001b[31m45.5 MB/s\u001b[0m eta \u001b[36m0:00:00\u001b[0m\n",
            "\u001b[?25hInstalling collected packages: voluptuous, sentencepiece, library, easygui, safetensors, prodigyopt, opencv-python, lightning-utilities, ftfy, einops, rich, huggingface-hub, torchmetrics, lion-pytorch, diffusers, bitsandbytes, accelerate, transformers, pytorch-lightning\n",
            "  Attempting uninstall: sentencepiece\n",
            "    Found existing installation: sentencepiece 0.1.99\n",
            "    Uninstalling sentencepiece-0.1.99:\n",
            "      Successfully uninstalled sentencepiece-0.1.99\n",
            "  Running setup.py develop for library\n",
            "  Attempting uninstall: safetensors\n",
            "    Found existing installation: safetensors 0.4.5\n",
            "    Uninstalling safetensors-0.4.5:\n",
            "      Successfully uninstalled safetensors-0.4.5\n",
            "  Attempting uninstall: opencv-python\n",
            "    Found existing installation: opencv-python 4.10.0.84\n",
            "    Uninstalling opencv-python-4.10.0.84:\n",
            "      Successfully uninstalled opencv-python-4.10.0.84\n",
            "  Attempting uninstall: einops\n",
            "    Found existing installation: einops 0.8.0\n",
            "    Uninstalling einops-0.8.0:\n",
            "      Successfully uninstalled einops-0.8.0\n",
            "  Attempting uninstall: rich\n",
            "    Found existing installation: rich 13.8.1\n",
            "    Uninstalling rich-13.8.1:\n",
            "      Successfully uninstalled rich-13.8.1\n",
            "  Attempting uninstall: huggingface-hub\n",
            "    Found existing installation: huggingface-hub 0.24.6\n",
            "    Uninstalling huggingface-hub-0.24.6:\n",
            "      Successfully uninstalled huggingface-hub-0.24.6\n",
            "  Attempting uninstall: accelerate\n",
            "    Found existing installation: accelerate 0.34.2\n",
            "    Uninstalling accelerate-0.34.2:\n",
            "      Successfully uninstalled accelerate-0.34.2\n",
            "  Attempting uninstall: transformers\n",
            "    Found existing installation: transformers 4.44.2\n",
            "    Uninstalling transformers-4.44.2:\n",
            "      Successfully uninstalled transformers-4.44.2\n",
            "Successfully installed accelerate-0.33.0 bitsandbytes-0.43.3 diffusers-0.25.0 easygui-0.98.3 einops-0.7.0 ftfy-6.1.1 huggingface-hub-0.24.5 library-0.0.0 lightning-utilities-0.11.7 lion-pytorch-0.0.6 opencv-python-4.8.1.78 prodigyopt-1.0 pytorch-lightning-1.9.0 rich-13.7.0 safetensors-0.4.4 sentencepiece-0.2.0 torchmetrics-1.4.2 transformers-4.44.0 voluptuous-0.13.1\n"
          ]
        }
      ],
      "source": [
        "%cd /content/fluxgym-Colab/sd-scripts/\n",
        "!pip install -r requirements.txt"
      ]
    },
    {
      "cell_type": "code",
      "execution_count": null,
      "metadata": {
        "id": "keb-H6-tu6d8"
      },
      "outputs": [],
      "source": [
        "%cd /content/fluxgym-Colab/\n",
        "!pip install -r requirements.txt"
      ]
    },
    {
      "cell_type": "code",
      "execution_count": null,
      "metadata": {
        "id": "NxoJxm3zuBDL",
        "collapsed": true,
        "colab": {
          "base_uri": "https://localhost:8080/"
        },
        "outputId": "7558d07d-f377-402e-f039-f83a01c0e835"
      },
      "outputs": [
        {
          "output_type": "stream",
          "name": "stdout",
          "text": [
            "Looking in indexes: https://download.pytorch.org/whl/nightly/cu121\n",
            "Requirement already satisfied: torch in /usr/local/lib/python3.10/dist-packages (2.4.0+cu121)\n",
            "Requirement already satisfied: torchvision in /usr/local/lib/python3.10/dist-packages (0.19.0+cu121)\n",
            "Requirement already satisfied: torchaudio in /usr/local/lib/python3.10/dist-packages (2.4.0+cu121)\n",
            "Requirement already satisfied: filelock in /usr/local/lib/python3.10/dist-packages (from torch) (3.16.0)\n",
            "Requirement already satisfied: typing-extensions>=4.8.0 in /usr/local/lib/python3.10/dist-packages (from torch) (4.12.2)\n",
            "Requirement already satisfied: sympy in /usr/local/lib/python3.10/dist-packages (from torch) (1.13.2)\n",
            "Requirement already satisfied: networkx in /usr/local/lib/python3.10/dist-packages (from torch) (3.3)\n",
            "Requirement already satisfied: jinja2 in /usr/local/lib/python3.10/dist-packages (from torch) (3.1.4)\n",
            "Requirement already satisfied: fsspec in /usr/local/lib/python3.10/dist-packages (from torch) (2024.6.1)\n",
            "Requirement already satisfied: numpy in /usr/local/lib/python3.10/dist-packages (from torchvision) (1.26.4)\n",
            "Requirement already satisfied: pillow!=8.3.*,>=5.3.0 in /usr/local/lib/python3.10/dist-packages (from torchvision) (9.4.0)\n",
            "Requirement already satisfied: MarkupSafe>=2.0 in /usr/local/lib/python3.10/dist-packages (from jinja2->torch) (2.1.5)\n",
            "Requirement already satisfied: mpmath<1.4,>=1.1.0 in /usr/local/lib/python3.10/dist-packages (from sympy->torch) (1.3.0)\n"
          ]
        }
      ],
      "source": [
        "!pip install --pre torch==2.4 torchvision torchaudio --index-url https://download.pytorch.org/whl/cu121"
      ]
    },
    {
      "cell_type": "markdown",
      "source": [
        "# **Download the models needed for training**"
      ],
      "metadata": {
        "id": "3qsySAjNj-PG"
      }
    },
    {
      "cell_type": "code",
      "execution_count": null,
      "metadata": {
        "id": "lwZGQcOD5Rpi",
        "collapsed": true,
        "colab": {
          "base_uri": "https://localhost:8080/"
        },
        "outputId": "5ce125d9-7359-4a41-be5b-14ea5fc49b1a"
      },
      "outputs": [
        {
          "output_type": "stream",
          "name": "stdout",
          "text": [
            "--2024-09-15 21:13:28--  https://huggingface.co/cocktailpeanut/xulf-dev/resolve/main/flux1-dev.sft?download=true\n",
            "Resolving huggingface.co (huggingface.co)... 18.160.143.76, 18.160.143.99, 18.160.143.75, ...\n",
            "Connecting to huggingface.co (huggingface.co)|18.160.143.76|:443... connected.\n",
            "HTTP request sent, awaiting response... 302 Found\n",
            "Location: https://cdn-lfs-us-1.huggingface.co/repos/e6/1b/e61b51323e49f08f24e9281f70900db08a8c978b7ad4a4ec5c21b72296a4214b/4610115bb0c89560703c892c59ac2742fa821e60ef5871b33493ba544683abd7?response-content-disposition=attachment%3B+filename*%3DUTF-8%27%27flux1-dev.sft%3B+filename%3D%22flux1-dev.sft%22%3B&Expires=1726692307&Policy=eyJTdGF0ZW1lbnQiOlt7IkNvbmRpdGlvbiI6eyJEYXRlTGVzc1RoYW4iOnsiQVdTOkVwb2NoVGltZSI6MTcyNjY5MjMwN319LCJSZXNvdXJjZSI6Imh0dHBzOi8vY2RuLWxmcy11cy0xLmh1Z2dpbmdmYWNlLmNvL3JlcG9zL2U2LzFiL2U2MWI1MTMyM2U0OWYwOGYyNGU5MjgxZjcwOTAwZGIwOGE4Yzk3OGI3YWQ0YTRlYzVjMjFiNzIyOTZhNDIxNGIvNDYxMDExNWJiMGM4OTU2MDcwM2M4OTJjNTlhYzI3NDJmYTgyMWU2MGVmNTg3MWIzMzQ5M2JhNTQ0NjgzYWJkNz9yZXNwb25zZS1jb250ZW50LWRpc3Bvc2l0aW9uPSoifV19&Signature=Fm35tkODfmw6yUjRjMZvOCq4STmfuvDbhtuEJ%7EnycCHJfAl50hqbXokz69Se8YcbxEsesLk%7EB7HMAWDHPdM5Xk9IjcEMXLirAOMBvuFZGFgAp1vRmA89JZhzVTgY-waqJhXlqiJLCJQ8CDMjCkJ3kWG6HfzGZZqFSvm6A30m2gE%7EjWRKiEerBCseSsMMfeaMLS5IuV8pqfiMorpdxeHkVjXPY4bZOUJDu-CM5hrLoJ%7ETqlsRgPXOw1Lws2PhYDuNj1-FgO-hzZvbBQViKWjsWvq1FA4lQh215eBDJwl2zExjo0MPSFI-qQoFdkBRnL3jecfIGnuzcACGEefVyUZSIQ__&Key-Pair-Id=K24J24Z295AEI9 [following]\n",
            "--2024-09-15 21:13:28--  https://cdn-lfs-us-1.huggingface.co/repos/e6/1b/e61b51323e49f08f24e9281f70900db08a8c978b7ad4a4ec5c21b72296a4214b/4610115bb0c89560703c892c59ac2742fa821e60ef5871b33493ba544683abd7?response-content-disposition=attachment%3B+filename*%3DUTF-8%27%27flux1-dev.sft%3B+filename%3D%22flux1-dev.sft%22%3B&Expires=1726692307&Policy=eyJTdGF0ZW1lbnQiOlt7IkNvbmRpdGlvbiI6eyJEYXRlTGVzc1RoYW4iOnsiQVdTOkVwb2NoVGltZSI6MTcyNjY5MjMwN319LCJSZXNvdXJjZSI6Imh0dHBzOi8vY2RuLWxmcy11cy0xLmh1Z2dpbmdmYWNlLmNvL3JlcG9zL2U2LzFiL2U2MWI1MTMyM2U0OWYwOGYyNGU5MjgxZjcwOTAwZGIwOGE4Yzk3OGI3YWQ0YTRlYzVjMjFiNzIyOTZhNDIxNGIvNDYxMDExNWJiMGM4OTU2MDcwM2M4OTJjNTlhYzI3NDJmYTgyMWU2MGVmNTg3MWIzMzQ5M2JhNTQ0NjgzYWJkNz9yZXNwb25zZS1jb250ZW50LWRpc3Bvc2l0aW9uPSoifV19&Signature=Fm35tkODfmw6yUjRjMZvOCq4STmfuvDbhtuEJ%7EnycCHJfAl50hqbXokz69Se8YcbxEsesLk%7EB7HMAWDHPdM5Xk9IjcEMXLirAOMBvuFZGFgAp1vRmA89JZhzVTgY-waqJhXlqiJLCJQ8CDMjCkJ3kWG6HfzGZZqFSvm6A30m2gE%7EjWRKiEerBCseSsMMfeaMLS5IuV8pqfiMorpdxeHkVjXPY4bZOUJDu-CM5hrLoJ%7ETqlsRgPXOw1Lws2PhYDuNj1-FgO-hzZvbBQViKWjsWvq1FA4lQh215eBDJwl2zExjo0MPSFI-qQoFdkBRnL3jecfIGnuzcACGEefVyUZSIQ__&Key-Pair-Id=K24J24Z295AEI9\n",
            "Resolving cdn-lfs-us-1.huggingface.co (cdn-lfs-us-1.huggingface.co)... 18.238.136.26, 18.238.136.115, 18.238.136.43, ...\n",
            "Connecting to cdn-lfs-us-1.huggingface.co (cdn-lfs-us-1.huggingface.co)|18.238.136.26|:443... connected.\n",
            "HTTP request sent, awaiting response... 200 OK\n",
            "Length: 23802932552 (22G) [binary/octet-stream]\n",
            "Saving to: ‘/content/fluxgym-Colab/models/unet/flux1-dev.sft’\n",
            "\n",
            "fluxgym-Colab/model  76%[==============>     ]  16.96G  51.1MB/s    eta 44s    ^C\n",
            "--2024-09-15 21:15:50--  https://huggingface.co/comfyanonymous/flux_text_encoders/resolve/main/clip_l.safetensors?download=true\n",
            "Resolving huggingface.co (huggingface.co)... 18.238.136.112, 18.238.136.32, 18.238.136.71, ...\n",
            "Connecting to huggingface.co (huggingface.co)|18.238.136.112|:443... connected.\n",
            "HTTP request sent, awaiting response... 302 Found\n",
            "Location: https://cdn-lfs-us-1.huggingface.co/repos/f0/72/f072b3fc381065339926f6194e8ae71b6a464d596c9495100c3c8730729ec94e/660c6f5b1abae9dc498ac2d21e1347d2abdb0cf6c0c0c8576cd796491d9a6cdd?response-content-disposition=attachment%3B+filename*%3DUTF-8%27%27clip_l.safetensors%3B+filename%3D%22clip_l.safetensors%22%3B&Expires=1726692311&Policy=eyJTdGF0ZW1lbnQiOlt7IkNvbmRpdGlvbiI6eyJEYXRlTGVzc1RoYW4iOnsiQVdTOkVwb2NoVGltZSI6MTcyNjY5MjMxMX19LCJSZXNvdXJjZSI6Imh0dHBzOi8vY2RuLWxmcy11cy0xLmh1Z2dpbmdmYWNlLmNvL3JlcG9zL2YwLzcyL2YwNzJiM2ZjMzgxMDY1MzM5OTI2ZjYxOTRlOGFlNzFiNmE0NjRkNTk2Yzk0OTUxMDBjM2M4NzMwNzI5ZWM5NGUvNjYwYzZmNWIxYWJhZTlkYzQ5OGFjMmQyMWUxMzQ3ZDJhYmRiMGNmNmMwYzBjODU3NmNkNzk2NDkxZDlhNmNkZD9yZXNwb25zZS1jb250ZW50LWRpc3Bvc2l0aW9uPSoifV19&Signature=c8mKjtApBBZhpUJBqtrldS5PKxJmJKyzxk9XjQC49-wlQ0AuO8sTQyYoLh0uOdqfXvgPjWkinloDj9q6VMUXK-44rP%7EO3q8uktAta1QkvTmuoq1WYpFge%7E0esLAEeVS8yom7nDKOMpVCZhSZMTj3DNuJ3WRKYlgO9lF1tPIJPxVRXqc4OPmlbQYRQFQA6k0Z3JxlXV9Ov5H2rY%7EJKqozPlHeCvFogEBU22B6G1zb7RoX3L3mECftOWOhsW0m65C5UBkGeHZv9yRBfVK5xMBMDA6u2t1BCS2kM16p7bQUFTq9Tmyd1F4tyBiySyH%7EJMV4bXpX-rV-IkAagx7RU5oNwA__&Key-Pair-Id=K24J24Z295AEI9 [following]\n",
            "--2024-09-15 21:15:50--  https://cdn-lfs-us-1.huggingface.co/repos/f0/72/f072b3fc381065339926f6194e8ae71b6a464d596c9495100c3c8730729ec94e/660c6f5b1abae9dc498ac2d21e1347d2abdb0cf6c0c0c8576cd796491d9a6cdd?response-content-disposition=attachment%3B+filename*%3DUTF-8%27%27clip_l.safetensors%3B+filename%3D%22clip_l.safetensors%22%3B&Expires=1726692311&Policy=eyJTdGF0ZW1lbnQiOlt7IkNvbmRpdGlvbiI6eyJEYXRlTGVzc1RoYW4iOnsiQVdTOkVwb2NoVGltZSI6MTcyNjY5MjMxMX19LCJSZXNvdXJjZSI6Imh0dHBzOi8vY2RuLWxmcy11cy0xLmh1Z2dpbmdmYWNlLmNvL3JlcG9zL2YwLzcyL2YwNzJiM2ZjMzgxMDY1MzM5OTI2ZjYxOTRlOGFlNzFiNmE0NjRkNTk2Yzk0OTUxMDBjM2M4NzMwNzI5ZWM5NGUvNjYwYzZmNWIxYWJhZTlkYzQ5OGFjMmQyMWUxMzQ3ZDJhYmRiMGNmNmMwYzBjODU3NmNkNzk2NDkxZDlhNmNkZD9yZXNwb25zZS1jb250ZW50LWRpc3Bvc2l0aW9uPSoifV19&Signature=c8mKjtApBBZhpUJBqtrldS5PKxJmJKyzxk9XjQC49-wlQ0AuO8sTQyYoLh0uOdqfXvgPjWkinloDj9q6VMUXK-44rP%7EO3q8uktAta1QkvTmuoq1WYpFge%7E0esLAEeVS8yom7nDKOMpVCZhSZMTj3DNuJ3WRKYlgO9lF1tPIJPxVRXqc4OPmlbQYRQFQA6k0Z3JxlXV9Ov5H2rY%7EJKqozPlHeCvFogEBU22B6G1zb7RoX3L3mECftOWOhsW0m65C5UBkGeHZv9yRBfVK5xMBMDA6u2t1BCS2kM16p7bQUFTq9Tmyd1F4tyBiySyH%7EJMV4bXpX-rV-IkAagx7RU5oNwA__&Key-Pair-Id=K24J24Z295AEI9\n",
            "Resolving cdn-lfs-us-1.huggingface.co (cdn-lfs-us-1.huggingface.co)... 18.238.136.26, 18.238.136.115, 18.238.136.110, ...\n",
            "Connecting to cdn-lfs-us-1.huggingface.co (cdn-lfs-us-1.huggingface.co)|18.238.136.26|:443... connected.\n",
            "HTTP request sent, awaiting response... 200 OK\n",
            "Length: 246144152 (235M) [binary/octet-stream]\n",
            "Saving to: ‘/content/fluxgym-Colab/models/clip/clip_l.safetensors’\n",
            "\n",
            "/content/fluxgym-Co 100%[===================>] 234.74M   197MB/s    in 1.2s    \n",
            "\n",
            "2024-09-15 21:15:51 (197 MB/s) - ‘/content/fluxgym-Colab/models/clip/clip_l.safetensors’ saved [246144152/246144152]\n",
            "\n",
            "--2024-09-15 21:15:51--  https://huggingface.co/comfyanonymous/flux_text_encoders/resolve/main/t5xxl_fp8_e4m3fn.safetensors?download=true\n",
            "Resolving huggingface.co (huggingface.co)... 18.238.136.112, 18.238.136.32, 18.238.136.71, ...\n",
            "Connecting to huggingface.co (huggingface.co)|18.238.136.112|:443... connected.\n",
            "HTTP request sent, awaiting response... 302 Found\n",
            "Location: https://cdn-lfs-us-1.huggingface.co/repos/f0/72/f072b3fc381065339926f6194e8ae71b6a464d596c9495100c3c8730729ec94e/7d330da4816157540d6bb7838bf63a0f02f573fc48ca4d8de34bb0cbfd514f09?response-content-disposition=attachment%3B+filename*%3DUTF-8%27%27t5xxl_fp8_e4m3fn.safetensors%3B+filename%3D%22t5xxl_fp8_e4m3fn.safetensors%22%3B&Expires=1726694151&Policy=eyJTdGF0ZW1lbnQiOlt7IkNvbmRpdGlvbiI6eyJEYXRlTGVzc1RoYW4iOnsiQVdTOkVwb2NoVGltZSI6MTcyNjY5NDE1MX19LCJSZXNvdXJjZSI6Imh0dHBzOi8vY2RuLWxmcy11cy0xLmh1Z2dpbmdmYWNlLmNvL3JlcG9zL2YwLzcyL2YwNzJiM2ZjMzgxMDY1MzM5OTI2ZjYxOTRlOGFlNzFiNmE0NjRkNTk2Yzk0OTUxMDBjM2M4NzMwNzI5ZWM5NGUvN2QzMzBkYTQ4MTYxNTc1NDBkNmJiNzgzOGJmNjNhMGYwMmY1NzNmYzQ4Y2E0ZDhkZTM0YmIwY2JmZDUxNGYwOT9yZXNwb25zZS1jb250ZW50LWRpc3Bvc2l0aW9uPSoifV19&Signature=tKjfnlchB79kURE24y7lM0fbKjs8IR0fnaFJWI9hxl0hpjLp4oR30WbvASUAu%7Ep6hObmWMXl50Hrn8aq0hm36I858-8vCI0Ex-Iq4ey06BOD4GW6gpJXYV0FaTwfj6FrFRI1FqJ9cutf%7EInMJWLK3T9VMemXKlKyyxEPSZnvQT42vFWaNrYS6QNPDPy99dLsgjF-lZRxYdyZJUokxzg1kbicBTXT1ow3RBVWZTBzWgONGowJbeJSndvwlT%7Emxj6JrQj746OzWpYevWnEBN9cEDoR5S-mGQ4JujFYjBQWnUrMgmLwvGsKUQx%7ExRXQSIyKqYv7lh2bsoKEdhaDDzVosQ__&Key-Pair-Id=K24J24Z295AEI9 [following]\n",
            "--2024-09-15 21:15:52--  https://cdn-lfs-us-1.huggingface.co/repos/f0/72/f072b3fc381065339926f6194e8ae71b6a464d596c9495100c3c8730729ec94e/7d330da4816157540d6bb7838bf63a0f02f573fc48ca4d8de34bb0cbfd514f09?response-content-disposition=attachment%3B+filename*%3DUTF-8%27%27t5xxl_fp8_e4m3fn.safetensors%3B+filename%3D%22t5xxl_fp8_e4m3fn.safetensors%22%3B&Expires=1726694151&Policy=eyJTdGF0ZW1lbnQiOlt7IkNvbmRpdGlvbiI6eyJEYXRlTGVzc1RoYW4iOnsiQVdTOkVwb2NoVGltZSI6MTcyNjY5NDE1MX19LCJSZXNvdXJjZSI6Imh0dHBzOi8vY2RuLWxmcy11cy0xLmh1Z2dpbmdmYWNlLmNvL3JlcG9zL2YwLzcyL2YwNzJiM2ZjMzgxMDY1MzM5OTI2ZjYxOTRlOGFlNzFiNmE0NjRkNTk2Yzk0OTUxMDBjM2M4NzMwNzI5ZWM5NGUvN2QzMzBkYTQ4MTYxNTc1NDBkNmJiNzgzOGJmNjNhMGYwMmY1NzNmYzQ4Y2E0ZDhkZTM0YmIwY2JmZDUxNGYwOT9yZXNwb25zZS1jb250ZW50LWRpc3Bvc2l0aW9uPSoifV19&Signature=tKjfnlchB79kURE24y7lM0fbKjs8IR0fnaFJWI9hxl0hpjLp4oR30WbvASUAu%7Ep6hObmWMXl50Hrn8aq0hm36I858-8vCI0Ex-Iq4ey06BOD4GW6gpJXYV0FaTwfj6FrFRI1FqJ9cutf%7EInMJWLK3T9VMemXKlKyyxEPSZnvQT42vFWaNrYS6QNPDPy99dLsgjF-lZRxYdyZJUokxzg1kbicBTXT1ow3RBVWZTBzWgONGowJbeJSndvwlT%7Emxj6JrQj746OzWpYevWnEBN9cEDoR5S-mGQ4JujFYjBQWnUrMgmLwvGsKUQx%7ExRXQSIyKqYv7lh2bsoKEdhaDDzVosQ__&Key-Pair-Id=K24J24Z295AEI9\n",
            "Resolving cdn-lfs-us-1.huggingface.co (cdn-lfs-us-1.huggingface.co)... 18.238.136.26, 18.238.136.115, 18.238.136.110, ...\n",
            "Connecting to cdn-lfs-us-1.huggingface.co (cdn-lfs-us-1.huggingface.co)|18.238.136.26|:443... connected.\n",
            "HTTP request sent, awaiting response... 200 OK\n",
            "Length: 4893934904 (4.6G) [binary/octet-stream]\n",
            "Saving to: ‘/content/fluxgym-Colab/models/clip/t5xxl_fp16.safetensors’\n",
            "\n",
            "/content/fluxgym-Co 100%[===================>]   4.56G   135MB/s    in 33s     \n",
            "\n",
            "2024-09-15 21:16:25 (139 MB/s) - ‘/content/fluxgym-Colab/models/clip/t5xxl_fp16.safetensors’ saved [4893934904/4893934904]\n",
            "\n",
            "--2024-09-15 21:16:25--  https://huggingface.co/cocktailpeanut/xulf-dev/resolve/main/ae.sft?download=true\n",
            "Resolving huggingface.co (huggingface.co)... 18.238.136.129, 18.238.136.112, 18.238.136.71, ...\n",
            "Connecting to huggingface.co (huggingface.co)|18.238.136.129|:443... connected.\n",
            "HTTP request sent, awaiting response... 302 Found\n",
            "Location: https://cdn-lfs-us-1.huggingface.co/repos/e6/1b/e61b51323e49f08f24e9281f70900db08a8c978b7ad4a4ec5c21b72296a4214b/afc8e28272cd15db3919bacdb6918ce9c1ed22e96cb12c4d5ed0fba823529e38?response-content-disposition=attachment%3B+filename*%3DUTF-8%27%27ae.sft%3B+filename%3D%22ae.sft%22%3B&Expires=1726694185&Policy=eyJTdGF0ZW1lbnQiOlt7IkNvbmRpdGlvbiI6eyJEYXRlTGVzc1RoYW4iOnsiQVdTOkVwb2NoVGltZSI6MTcyNjY5NDE4NX19LCJSZXNvdXJjZSI6Imh0dHBzOi8vY2RuLWxmcy11cy0xLmh1Z2dpbmdmYWNlLmNvL3JlcG9zL2U2LzFiL2U2MWI1MTMyM2U0OWYwOGYyNGU5MjgxZjcwOTAwZGIwOGE4Yzk3OGI3YWQ0YTRlYzVjMjFiNzIyOTZhNDIxNGIvYWZjOGUyODI3MmNkMTVkYjM5MTliYWNkYjY5MThjZTljMWVkMjJlOTZjYjEyYzRkNWVkMGZiYTgyMzUyOWUzOD9yZXNwb25zZS1jb250ZW50LWRpc3Bvc2l0aW9uPSoifV19&Signature=b7LC3yazbFWGEvKPMPiGm3UfUtoDuRJvWjwi%7EsrqLl%7EAvakIIQRIubCM1mIFVQ3lQrSPdYlli0A3ABETkIPd68ukpWvIaSTFFvmdNL3wERwM31hwL3oOeb87x5sr4o-s2oSZm5sN9Mpbg2i3JXkLez8eYCR%7EfxQ9%7EeH2Ef74x-Cd7RJw-RnoAb95kYWoUjFvAz5L-BIYoEBBd8nHq4H9Dw-Q9i2B2J8Mu5%7EyxCaDP%7Ehn52fwfi-dX3CdBaJUvQUo1qobrQY1cyAShTy7bQuHYLIjRORpTyGpekdGDZpdsMmU1kNpiNspPeJFaGnv08BGU-me%7E5KQLjaJoKtVkIjAig__&Key-Pair-Id=K24J24Z295AEI9 [following]\n",
            "--2024-09-15 21:16:25--  https://cdn-lfs-us-1.huggingface.co/repos/e6/1b/e61b51323e49f08f24e9281f70900db08a8c978b7ad4a4ec5c21b72296a4214b/afc8e28272cd15db3919bacdb6918ce9c1ed22e96cb12c4d5ed0fba823529e38?response-content-disposition=attachment%3B+filename*%3DUTF-8%27%27ae.sft%3B+filename%3D%22ae.sft%22%3B&Expires=1726694185&Policy=eyJTdGF0ZW1lbnQiOlt7IkNvbmRpdGlvbiI6eyJEYXRlTGVzc1RoYW4iOnsiQVdTOkVwb2NoVGltZSI6MTcyNjY5NDE4NX19LCJSZXNvdXJjZSI6Imh0dHBzOi8vY2RuLWxmcy11cy0xLmh1Z2dpbmdmYWNlLmNvL3JlcG9zL2U2LzFiL2U2MWI1MTMyM2U0OWYwOGYyNGU5MjgxZjcwOTAwZGIwOGE4Yzk3OGI3YWQ0YTRlYzVjMjFiNzIyOTZhNDIxNGIvYWZjOGUyODI3MmNkMTVkYjM5MTliYWNkYjY5MThjZTljMWVkMjJlOTZjYjEyYzRkNWVkMGZiYTgyMzUyOWUzOD9yZXNwb25zZS1jb250ZW50LWRpc3Bvc2l0aW9uPSoifV19&Signature=b7LC3yazbFWGEvKPMPiGm3UfUtoDuRJvWjwi%7EsrqLl%7EAvakIIQRIubCM1mIFVQ3lQrSPdYlli0A3ABETkIPd68ukpWvIaSTFFvmdNL3wERwM31hwL3oOeb87x5sr4o-s2oSZm5sN9Mpbg2i3JXkLez8eYCR%7EfxQ9%7EeH2Ef74x-Cd7RJw-RnoAb95kYWoUjFvAz5L-BIYoEBBd8nHq4H9Dw-Q9i2B2J8Mu5%7EyxCaDP%7Ehn52fwfi-dX3CdBaJUvQUo1qobrQY1cyAShTy7bQuHYLIjRORpTyGpekdGDZpdsMmU1kNpiNspPeJFaGnv08BGU-me%7E5KQLjaJoKtVkIjAig__&Key-Pair-Id=K24J24Z295AEI9\n",
            "Resolving cdn-lfs-us-1.huggingface.co (cdn-lfs-us-1.huggingface.co)... 18.238.136.26, 18.238.136.115, 18.238.136.110, ...\n",
            "Connecting to cdn-lfs-us-1.huggingface.co (cdn-lfs-us-1.huggingface.co)|18.238.136.26|:443... connected.\n",
            "HTTP request sent, awaiting response... 200 OK\n",
            "Length: 335304388 (320M) [binary/octet-stream]\n",
            "Saving to: ‘/content/fluxgym-Colab/models/vae/ae.sft’\n",
            "\n",
            "/content/fluxgym-Co 100%[===================>] 319.77M   146MB/s    in 2.2s    \n",
            "\n",
            "2024-09-15 21:16:28 (146 MB/s) - ‘/content/fluxgym-Colab/models/vae/ae.sft’ saved [335304388/335304388]\n",
            "\n"
          ]
        }
      ],
      "source": [
        "!wget -O /content/fluxgym-Colab/models/unet/flux1-dev-fp8.safetensors https://huggingface.co/Kijai/flux-fp8/resolve/main/flux1-dev-fp8.safetensors\n",
        "!wget -O /content/fluxgym-Colab/models/clip/clip_l.safetensors https://huggingface.co/comfyanonymous/flux_text_encoders/resolve/main/clip_l.safetensors?download=true\n",
        "!wget -O /content/fluxgym-Colab/models/clip/t5xxl_fp8.safetensors https://huggingface.co/comfyanonymous/flux_text_encoders/resolve/main/t5xxl_fp8_e4m3fn.safetensors?download=true\n",
        "!wget -O /content/fluxgym-Colab/models/vae/ae.sft https://huggingface.co/cocktailpeanut/xulf-dev/resolve/main/ae.sft?download=true"
      ]
    },
    {
      "cell_type": "markdown",
      "source": [
        "# **Start the web server and click the share link**"
      ],
      "metadata": {
        "id": "Tef5XIaQksXa"
      }
    },
    {
      "cell_type": "code",
      "execution_count": null,
      "metadata": {
        "id": "mzJMy5sjuICj"
      },
      "outputs": [],
      "source": [
        "!python app.py"
      ]
    },
    {
      "cell_type": "markdown",
      "source": [
        "# **Download the completed Loras from the fluxgym-Colab/outputs directory. Copy and paste the models URL in the filename = 'Lora path here'**"
      ],
      "metadata": {
        "id": "3tQM2tYxk00i"
      }
    },
    {
      "cell_type": "code",
      "source": [
        "from google.colab import files\n",
        "\n",
        "filename = '/content/fluxgym-Colab/outputs/sarah-lora.safetensors'\n",
        "files.download(filename)"
      ],
      "metadata": {
        "colab": {
          "base_uri": "https://localhost:8080/",
          "height": 17
        },
        "id": "8obna2u3ssGv",
        "outputId": "88252342-d118-4cf8-c348-6b08d1cfc4ce"
      },
      "execution_count": null,
      "outputs": [
        {
          "output_type": "display_data",
          "data": {
            "text/plain": [
              "<IPython.core.display.Javascript object>"
            ],
            "application/javascript": [
              "\n",
              "    async function download(id, filename, size) {\n",
              "      if (!google.colab.kernel.accessAllowed) {\n",
              "        return;\n",
              "      }\n",
              "      const div = document.createElement('div');\n",
              "      const label = document.createElement('label');\n",
              "      label.textContent = `Downloading \"${filename}\": `;\n",
              "      div.appendChild(label);\n",
              "      const progress = document.createElement('progress');\n",
              "      progress.max = size;\n",
              "      div.appendChild(progress);\n",
              "      document.body.appendChild(div);\n",
              "\n",
              "      const buffers = [];\n",
              "      let downloaded = 0;\n",
              "\n",
              "      const channel = await google.colab.kernel.comms.open(id);\n",
              "      // Send a message to notify the kernel that we're ready.\n",
              "      channel.send({})\n",
              "\n",
              "      for await (const message of channel.messages) {\n",
              "        // Send a message to notify the kernel that we're ready.\n",
              "        channel.send({})\n",
              "        if (message.buffers) {\n",
              "          for (const buffer of message.buffers) {\n",
              "            buffers.push(buffer);\n",
              "            downloaded += buffer.byteLength;\n",
              "            progress.value = downloaded;\n",
              "          }\n",
              "        }\n",
              "      }\n",
              "      const blob = new Blob(buffers, {type: 'application/binary'});\n",
              "      const a = document.createElement('a');\n",
              "      a.href = window.URL.createObjectURL(blob);\n",
              "      a.download = filename;\n",
              "      div.appendChild(a);\n",
              "      a.click();\n",
              "      div.remove();\n",
              "    }\n",
              "  "
            ]
          },
          "metadata": {}
        },
        {
          "output_type": "display_data",
          "data": {
            "text/plain": [
              "<IPython.core.display.Javascript object>"
            ],
            "application/javascript": [
              "download(\"download_523ed405-0608-429e-b78f-301916bfde7c\", \"sarah-lora.safetensors\", 39757200)"
            ]
          },
          "metadata": {}
        }
      ]
    }
  ],
  "metadata": {
    "colab": {
      "provenance": [],
      "gpuType": "T4",
      "include_colab_link": true
    },
    "kernelspec": {
      "display_name": "Python 3",
      "name": "python3"
    },
    "language_info": {
      "name": "python"
    },
    "accelerator": "GPU"
  },
  "nbformat": 4,
  "nbformat_minor": 0
}